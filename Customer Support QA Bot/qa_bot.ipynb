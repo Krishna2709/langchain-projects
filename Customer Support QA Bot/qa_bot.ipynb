{
 "cells": [
  {
   "cell_type": "code",
   "execution_count": 6,
   "metadata": {},
   "outputs": [
    {
     "data": {
      "text/plain": [
       "True"
      ]
     },
     "execution_count": 6,
     "metadata": {},
     "output_type": "execute_result"
    }
   ],
   "source": [
    "from langchain.embeddings.openai import OpenAIEmbeddings\n",
    "from langchain.vectorstores import DeepLake\n",
    "from langchain.text_splitter import CharacterTextSplitter\n",
    "from langchain import OpenAI\n",
    "from langchain.document_loaders import SeleniumURLLoader\n",
    "from langchain import PromptTemplate\n",
    "\n",
    "from dotenv import load_dotenv\n",
    "load_dotenv()"
   ]
  },
  {
   "cell_type": "code",
   "execution_count": 3,
   "metadata": {},
   "outputs": [],
   "source": [
    "# we'll use information from the following articles\n",
    "urls = ['https://beebom.com/what-is-nft-explained/',\n",
    "        'https://beebom.com/how-delete-spotify-account/',\n",
    "        'https://beebom.com/how-download-gif-twitter/',\n",
    "        'https://beebom.com/how-use-chatgpt-linux-terminal/',\n",
    "        'https://beebom.com/how-delete-spotify-account/',\n",
    "        'https://beebom.com/how-save-instagram-story-with-music/',\n",
    "        'https://beebom.com/how-install-pip-windows/',\n",
    "        'https://beebom.com/how-check-disk-usage-linux/']"
   ]
  },
  {
   "cell_type": "code",
   "execution_count": 5,
   "metadata": {},
   "outputs": [
    {
     "name": "stderr",
     "output_type": "stream",
     "text": [
      "Created a chunk of size 1226, which is longer than the specified 1000\n"
     ]
    }
   ],
   "source": [
    "loader = SeleniumURLLoader(urls=urls)\n",
    "docs_not_splitted = loader.load()\n",
    "\n",
    "text_splitter = CharacterTextSplitter(chunk_size=1000, chunk_overlap=0)\n",
    "docs = text_splitter.split_documents(docs_not_splitted)"
   ]
  },
  {
   "cell_type": "code",
   "execution_count": 7,
   "metadata": {},
   "outputs": [
    {
     "name": "stdout",
     "output_type": "stream",
     "text": [
      "Your Deep Lake dataset has been successfully created!\n"
     ]
    },
    {
     "name": "stderr",
     "output_type": "stream",
     "text": [
      "|"
     ]
    },
    {
     "name": "stdout",
     "output_type": "stream",
     "text": [
      "Dataset(path='hub://blackorder/customer_support_qa_bot', tensors=['embedding', 'id', 'metadata', 'text'])\n",
      "\n",
      "  tensor      htype       shape      dtype  compression\n",
      "  -------    -------     -------    -------  ------- \n",
      " embedding  embedding  (127, 1536)  float32   None   \n",
      "    id        text      (127, 1)      str     None   \n",
      " metadata     json      (127, 1)      str     None   \n",
      "   text       text      (127, 1)      str     None   \n"
     ]
    },
    {
     "name": "stderr",
     "output_type": "stream",
     "text": [
      " \r"
     ]
    },
    {
     "data": {
      "text/plain": [
       "['f7328c40-3394-11ee-b60b-90e868539f12',\n",
       " 'f7328c41-3394-11ee-98a7-90e868539f12',\n",
       " 'f7328c42-3394-11ee-b082-90e868539f12',\n",
       " 'f7328c43-3394-11ee-b8f9-90e868539f12',\n",
       " 'f7328c44-3394-11ee-9aea-90e868539f12',\n",
       " 'f7328c45-3394-11ee-8297-90e868539f12',\n",
       " 'f7328c46-3394-11ee-9092-90e868539f12',\n",
       " 'f7328c47-3394-11ee-bdca-90e868539f12',\n",
       " 'f7328c48-3394-11ee-a0b8-90e868539f12',\n",
       " 'f7328c49-3394-11ee-9f19-90e868539f12',\n",
       " 'f7328c4a-3394-11ee-99ea-90e868539f12',\n",
       " 'f7328c4b-3394-11ee-bac4-90e868539f12',\n",
       " 'f7328c4c-3394-11ee-b229-90e868539f12',\n",
       " 'f7328c4d-3394-11ee-b51c-90e868539f12',\n",
       " 'f7328c4e-3394-11ee-9369-90e868539f12',\n",
       " 'f7328c4f-3394-11ee-bdf0-90e868539f12',\n",
       " 'f7328c50-3394-11ee-9e80-90e868539f12',\n",
       " 'f7328c51-3394-11ee-96ea-90e868539f12',\n",
       " 'f7328c52-3394-11ee-a556-90e868539f12',\n",
       " 'f7328c53-3394-11ee-b910-90e868539f12',\n",
       " 'f7328c54-3394-11ee-ba1e-90e868539f12',\n",
       " 'f7328c55-3394-11ee-8dfa-90e868539f12',\n",
       " 'f7328c56-3394-11ee-a04c-90e868539f12',\n",
       " 'f7328c57-3394-11ee-88e9-90e868539f12',\n",
       " 'f7328c58-3394-11ee-9209-90e868539f12',\n",
       " 'f7328c59-3394-11ee-88f1-90e868539f12',\n",
       " 'f7328c5a-3394-11ee-b05f-90e868539f12',\n",
       " 'f7328c5b-3394-11ee-8611-90e868539f12',\n",
       " 'f7328c5c-3394-11ee-a793-90e868539f12',\n",
       " 'f7328c5d-3394-11ee-b329-90e868539f12',\n",
       " 'f7328c5e-3394-11ee-9008-90e868539f12',\n",
       " 'f7328c5f-3394-11ee-bf2f-90e868539f12',\n",
       " 'f7328c60-3394-11ee-ba39-90e868539f12',\n",
       " 'f7328c61-3394-11ee-a215-90e868539f12',\n",
       " 'f7328c62-3394-11ee-bee5-90e868539f12',\n",
       " 'f7328c63-3394-11ee-ad21-90e868539f12',\n",
       " 'f7328c64-3394-11ee-b3da-90e868539f12',\n",
       " 'f7328c65-3394-11ee-a685-90e868539f12',\n",
       " 'f7328c66-3394-11ee-b9bd-90e868539f12',\n",
       " 'f7328c67-3394-11ee-8967-90e868539f12',\n",
       " 'f7328c68-3394-11ee-93d9-90e868539f12',\n",
       " 'f7328c69-3394-11ee-8652-90e868539f12',\n",
       " 'f7328c6a-3394-11ee-aeb5-90e868539f12',\n",
       " 'f7328c6b-3394-11ee-84b8-90e868539f12',\n",
       " 'f7328c6c-3394-11ee-b986-90e868539f12',\n",
       " 'f7328c6d-3394-11ee-b66e-90e868539f12',\n",
       " 'f7328c6e-3394-11ee-abc6-90e868539f12',\n",
       " 'f7328c6f-3394-11ee-9521-90e868539f12',\n",
       " 'f7328c70-3394-11ee-9e37-90e868539f12',\n",
       " 'f7328c71-3394-11ee-a3d3-90e868539f12',\n",
       " 'f7328c72-3394-11ee-8671-90e868539f12',\n",
       " 'f7328c73-3394-11ee-96a4-90e868539f12',\n",
       " 'f7328c74-3394-11ee-9bc9-90e868539f12',\n",
       " 'f7328c75-3394-11ee-943c-90e868539f12',\n",
       " 'f7328c76-3394-11ee-a718-90e868539f12',\n",
       " 'f7328c77-3394-11ee-a8fc-90e868539f12',\n",
       " 'f7328c78-3394-11ee-ba6e-90e868539f12',\n",
       " 'f7328c79-3394-11ee-8d16-90e868539f12',\n",
       " 'f7328c7a-3394-11ee-bddc-90e868539f12',\n",
       " 'f7328c7b-3394-11ee-a35c-90e868539f12',\n",
       " 'f7328c7c-3394-11ee-9e87-90e868539f12',\n",
       " 'f7328c7d-3394-11ee-9c55-90e868539f12',\n",
       " 'f7328c7e-3394-11ee-b761-90e868539f12',\n",
       " 'f7328c7f-3394-11ee-a15d-90e868539f12',\n",
       " 'f7328c80-3394-11ee-90ab-90e868539f12',\n",
       " 'f7328c81-3394-11ee-83fc-90e868539f12',\n",
       " 'f7328c82-3394-11ee-b385-90e868539f12',\n",
       " 'f7328c83-3394-11ee-bac8-90e868539f12',\n",
       " 'f7328c84-3394-11ee-a31d-90e868539f12',\n",
       " 'f7328c85-3394-11ee-ba9f-90e868539f12',\n",
       " 'f7328c86-3394-11ee-80e6-90e868539f12',\n",
       " 'f7328c87-3394-11ee-85f8-90e868539f12',\n",
       " 'f7328c88-3394-11ee-ae0f-90e868539f12',\n",
       " 'f7328c89-3394-11ee-b5c4-90e868539f12',\n",
       " 'f7328c8a-3394-11ee-9986-90e868539f12',\n",
       " 'f7328c8b-3394-11ee-ad74-90e868539f12',\n",
       " 'f7328c8c-3394-11ee-b4ca-90e868539f12',\n",
       " 'f7328c8d-3394-11ee-b23e-90e868539f12',\n",
       " 'f7328c8e-3394-11ee-aac3-90e868539f12',\n",
       " 'f7328c8f-3394-11ee-a804-90e868539f12',\n",
       " 'f7328c90-3394-11ee-8012-90e868539f12',\n",
       " 'f7328c91-3394-11ee-a729-90e868539f12',\n",
       " 'f7328c92-3394-11ee-9f96-90e868539f12',\n",
       " 'f732b34a-3394-11ee-b4fe-90e868539f12',\n",
       " 'f732b34b-3394-11ee-b786-90e868539f12',\n",
       " 'f732b34c-3394-11ee-9552-90e868539f12',\n",
       " 'f732b34d-3394-11ee-8f9c-90e868539f12',\n",
       " 'f732b34e-3394-11ee-aebc-90e868539f12',\n",
       " 'f732b34f-3394-11ee-94d0-90e868539f12',\n",
       " 'f732b350-3394-11ee-ad08-90e868539f12',\n",
       " 'f732b351-3394-11ee-b7b5-90e868539f12',\n",
       " 'f732b352-3394-11ee-8407-90e868539f12',\n",
       " 'f732b353-3394-11ee-8c3a-90e868539f12',\n",
       " 'f732b354-3394-11ee-bab0-90e868539f12',\n",
       " 'f732b355-3394-11ee-a452-90e868539f12',\n",
       " 'f732b356-3394-11ee-8e30-90e868539f12',\n",
       " 'f732b357-3394-11ee-8f45-90e868539f12',\n",
       " 'f732b358-3394-11ee-b36a-90e868539f12',\n",
       " 'f732b359-3394-11ee-bdec-90e868539f12',\n",
       " 'f732b35a-3394-11ee-891e-90e868539f12',\n",
       " 'f732b35b-3394-11ee-b367-90e868539f12',\n",
       " 'f732b35c-3394-11ee-a2c0-90e868539f12',\n",
       " 'f732b35d-3394-11ee-9cab-90e868539f12',\n",
       " 'f732b35e-3394-11ee-85d6-90e868539f12',\n",
       " 'f732b35f-3394-11ee-8526-90e868539f12',\n",
       " 'f732b360-3394-11ee-bf90-90e868539f12',\n",
       " 'f732b361-3394-11ee-947b-90e868539f12',\n",
       " 'f732b362-3394-11ee-b801-90e868539f12',\n",
       " 'f732b363-3394-11ee-a082-90e868539f12',\n",
       " 'f732b364-3394-11ee-bfde-90e868539f12',\n",
       " 'f732b365-3394-11ee-bbb3-90e868539f12',\n",
       " 'f732b366-3394-11ee-9f50-90e868539f12',\n",
       " 'f732b367-3394-11ee-86fa-90e868539f12',\n",
       " 'f732b368-3394-11ee-934a-90e868539f12',\n",
       " 'f732b369-3394-11ee-a347-90e868539f12',\n",
       " 'f732b36a-3394-11ee-92a1-90e868539f12',\n",
       " 'f732b36b-3394-11ee-ad38-90e868539f12',\n",
       " 'f732b36c-3394-11ee-87fc-90e868539f12',\n",
       " 'f732b36d-3394-11ee-a309-90e868539f12',\n",
       " 'f732b36e-3394-11ee-954b-90e868539f12',\n",
       " 'f732b36f-3394-11ee-b420-90e868539f12',\n",
       " 'f732b370-3394-11ee-bb06-90e868539f12',\n",
       " 'f732b371-3394-11ee-a294-90e868539f12',\n",
       " 'f732b372-3394-11ee-8d01-90e868539f12',\n",
       " 'f732b373-3394-11ee-bdaf-90e868539f12',\n",
       " 'f732b374-3394-11ee-b329-90e868539f12',\n",
       " 'f732b375-3394-11ee-a69a-90e868539f12']"
      ]
     },
     "execution_count": 7,
     "metadata": {},
     "output_type": "execute_result"
    }
   ],
   "source": [
    "embeddings = OpenAIEmbeddings(model=\"text-embedding-ada-002\")\n",
    "\n",
    "my_activeloop_org_id = \"blackorder\"\n",
    "my_activeloop_dataset_name = \"customer_support_qa_bot\"\n",
    "dataset_path = f\"hub://{my_activeloop_org_id}/{my_activeloop_dataset_name}\"\n",
    "db = DeepLake(dataset_path, embedding_function=embeddings)\n",
    "\n",
    "db.add_documents(docs)"
   ]
  },
  {
   "cell_type": "code",
   "execution_count": 8,
   "metadata": {},
   "outputs": [
    {
     "name": "stdout",
     "output_type": "stream",
     "text": [
      "Home  Tech  How to Check Disk Usage in Linux (4 Methods)\n",
      "\n",
      "How to Check Disk Usage in Linux (4 Methods)\n",
      "\n",
      "Beebom Staff\n",
      "\n",
      "Last Updated: June 19, 2023 5:14 pm\n",
      "\n",
      "There may be times when you need to download some important files or transfer some photos to your Linux system, but face a problem of insufficient disk space. You head over to your file manager to delete the large files which you no longer require, but you have no clue which of them are occupying most of your disk space. In this article, we will show some easy methods to check disk usage in Linux from both the terminal and the GUI application.\n",
      "\n",
      "Monitor Disk Usage in Linux (2023)\n",
      "\n",
      "Table of Contents\n",
      "\n",
      "Check Disk Space Using the df Command\n",
      "\t\t\n",
      "Display Disk Usage in Human Readable FormatDisplay Disk Occupancy of a Particular Type\n",
      "\n",
      "Check Disk Usage using the du Command\n",
      "\t\t\n",
      "Display Disk Usage in Human Readable FormatDisplay Disk Usage for a Particular DirectoryCompare Disk Usage of Two Directories\n"
     ]
    }
   ],
   "source": [
    "query = \"how to check disk usage in linux?\"\n",
    "docs = db.similarity_search(query)\n",
    "print(docs[0].page_content)"
   ]
  },
  {
   "cell_type": "code",
   "execution_count": 9,
   "metadata": {},
   "outputs": [],
   "source": [
    "template = \"\"\"You are an exceptional customer support chatbot that gently answer questions.\n",
    "\n",
    "You know the following context information.\n",
    "\n",
    "{chunks_formatted}\n",
    "\n",
    "Answer to the following question from a customer. Use only information from the previous context information. Do not invent stuff.\n",
    "\n",
    "Question: {query}\n",
    "\n",
    "Answer:\"\"\"\n",
    "\n",
    "prompt = PromptTemplate(\n",
    "    input_variables=[\"chunks_formatted\", \"query\"],\n",
    "    template=template,\n",
    ")"
   ]
  },
  {
   "cell_type": "code",
   "execution_count": 10,
   "metadata": {},
   "outputs": [
    {
     "name": "stdout",
     "output_type": "stream",
     "text": [
      " You can check disk usage in Linux using the df command in the terminal or using the Disk Usage Analyzer Tool in the GUI. The df command will show you the current disk usage and the available disk space in Linux. The Disk Usage Analyzer Tool will show you a ring chart of the disk occupancy for all the folders and you can hover over any portion of the graph to see which folders are occupying the most disk space.\n"
     ]
    }
   ],
   "source": [
    "docs = db.similarity_search(query)\n",
    "retrieved_chunks = [doc.page_content for doc in docs]\n",
    "\n",
    "chunks_formatted = \"\\n\\n\".join(retrieved_chunks)\n",
    "prompt_formatted = prompt.format(chunks_formatted=chunks_formatted, query=query)\n",
    "\n",
    "\n",
    "llm = OpenAI(model=\"text-davinci-003\", temperature=0)\n",
    "answer = llm(prompt_formatted)\n",
    "print(answer)"
   ]
  }
 ],
 "metadata": {
  "kernelspec": {
   "display_name": "usercom",
   "language": "python",
   "name": "python3"
  },
  "language_info": {
   "codemirror_mode": {
    "name": "ipython",
    "version": 3
   },
   "file_extension": ".py",
   "mimetype": "text/x-python",
   "name": "python",
   "nbconvert_exporter": "python",
   "pygments_lexer": "ipython3",
   "version": "3.11.3"
  },
  "orig_nbformat": 4
 },
 "nbformat": 4,
 "nbformat_minor": 2
}
